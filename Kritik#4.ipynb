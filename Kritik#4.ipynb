{
 "cells": [
  {
   "cell_type": "code",
   "execution_count": 22,
   "id": "f695b98f-60fc-4108-8245-62c601d4e10d",
   "metadata": {},
   "outputs": [
    {
     "data": {
      "image/png": "[encoded data removed]",
      "text/plain": [
       "<Figure size 640x480 with 1 Axes>"
      ]
     },
     "metadata": {},
     "output_type": "display_data"
    },
    {
     "name": "stdout",
     "output_type": "stream",
     "text": [
      "(0.0, 0.0)\n"
     ]
    }
   ],
   "source": [
    "import matplotlib.pyplot as plt\n",
    "import numpy as np\n",
    "\n",
    "def silly_goose(x): # The 1st Function\n",
    "    return x**2 \n",
    "\n",
    "def regular_goose(x): # The 2nd Function\n",
    "    return (-3* x **3) + (10 * x **2) - (5 * x) - 3\n",
    "    \n",
    "def boring_goose(x): # The third function\n",
    "    if x > 0:\n",
    "        return x**x\n",
    "    elif x == 0:\n",
    "        return 1\n",
    "    else:\n",
    "        return abs(x)**abs(x)\n",
    "\n",
    "def lame_goose(x): \n",
    "    if x >= 0:\n",
    "        return x\n",
    "    if x < 0:\n",
    "        return -x\n",
    "\n",
    "# This will not work as the absolute function is not differentiable at its minimum value. \n",
    "# The limit here does NOT exist, because the slope does not ever approach 0 from either side\n",
    "\n",
    "def gradient_descent(a, L_rate, i_point):\n",
    "    def deriv(a, i_point): \n",
    "    # To estimate the derivative of the function at the initial point (i_point)\n",
    "        return (a(i_point + 10 ** (-5)) - a(i_point))/(10 ** (-5))\n",
    "\n",
    "    i = 0\n",
    "        \n",
    "    x_coordinates=[i_point] # To list where we store the x_ns\n",
    "    y_coordinates=[a(i_point)] # To list where we store the y_ns\n",
    "\n",
    "    while abs(deriv(a, x_coordinates[i])) > 0.001 : \n",
    "    # Until it gets close enough to a' = 0\n",
    "        i+=1\n",
    "        x_coordinates.append(x_coordinates[i-1]-L_rate*deriv(a, x_coordinates[i-1])) \n",
    "    # To add the x-coordinate\n",
    "        y_coordinates.append(a(x_coordinates[i-1]-L_rate*deriv(a, x_coordinates[i-1]))) \n",
    "    # To add the y-coordinate\n",
    "              \n",
    "        \n",
    "    plot_range=np.linspace(min(x_coordinates)-0.5, max(x_coordinates)+0.5,10000) # For aesthetics in display\n",
    "    function_range=[a(i) for i in plot_range]\n",
    "    plt.plot(plot_range, function_range) \n",
    "    # This will plot a(x) as a function\n",
    "    plt.plot(x_coordinates, y_coordinates) \n",
    "    # This will plot the sequence of points x_n and a(x_n)\n",
    "    plt.show() \n",
    "    # This will then show the functions on separate graphs\n",
    "    return(round(x_coordinates[i-1],3), round(y_coordinates[i-1],3)) \n",
    "    # This will return the last x_n and y_n functions which are then rounded to 3 decimal places\n",
    "\n",
    "print(gradient_descent(silly_goose, 0.03,2)) # To display the function & values."
   ]
  },
  {
   "cell_type": "code",
   "execution_count": null,
   "id": "f923206a-35a9-47c6-9136-1934b658b416",
   "metadata": {},
   "outputs": [],
   "source": []
  },
  {
   "cell_type": "code",
   "execution_count": null,
   "id": "f20d6603-fa59-4462-8f5d-70efeb73ab3b",
   "metadata": {},
   "outputs": [],
   "source": []
  },
  {
   "cell_type": "code",
   "execution_count": null,
   "id": "19bf6595-cf85-41f7-8470-66768b8df54a",
   "metadata": {},
   "outputs": [],
   "source": []
  },
  {
   "cell_type": "code",
   "execution_count": null,
   "id": "f1184a0c-f207-4c34-b36c-ec7de2f16909",
   "metadata": {},
   "outputs": [],
   "source": []
  }
 ],
 "metadata": {
  "kernelspec": {
   "display_name": "Python 3 (ipykernel)",
   "language": "python",
   "name": "python3"
  },
  "language_info": {
   "codemirror_mode": {
    "name": "ipython",
    "version": 3
   },
   "file_extension": ".py",
   "mimetype": "text/x-python",
   "name": "python",
   "nbconvert_exporter": "python",
   "pygments_lexer": "ipython3",
   "version": "3.12.8"
  }
 },
 "nbformat": 4,
 "nbformat_minor": 5
}

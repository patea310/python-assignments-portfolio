{
 "cells": [
  {
   "cell_type": "code",
   "execution_count": 56,
   "id": "32949bc2-1204-4442-a8cc-e5c289749e0c",
   "metadata": {},
   "outputs": [],
   "source": [
    "import numpy as np\n",
    "import matplotlib.pyplot as plt"
   ]
  },
  {
   "cell_type": "code",
   "execution_count": 57,
   "id": "677edd3a-e985-412b-812a-59d37dedc59e",
   "metadata": {},
   "outputs": [],
   "source": [
    "import sympy as sp"
   ]
  },
  {
   "cell_type": "code",
   "execution_count": 58,
   "id": "16548416-ab9f-4180-bf2f-64c8e4abcdfe",
   "metadata": {},
   "outputs": [],
   "source": [
    "x,y = sp.symbols ('x y')"
   ]
  },
  {
   "cell_type": "code",
   "execution_count": 67,
   "id": "62207cd1-9fc6-4bcd-abfd-85c3b6b7dd5e",
   "metadata": {},
   "outputs": [],
   "source": [
    "F = x ** 2 + sp.sin(y)\n",
    "\n",
    "# Differentiating F concerning x\n",
    "\n",
    "DFDX = sp.diff(F, x)\n",
    "\n",
    "# Differentiating F concerning y\n",
    "\n",
    "DFDY = sp.diff(F, y)"
   ]
  },
  {
   "cell_type": "code",
   "execution_count": 60,
   "id": "891f33a4-2bf4-47bc-a04a-4dda82261206",
   "metadata": {},
   "outputs": [
    {
     "name": "stdout",
     "output_type": "stream",
     "text": [
      "the derivative of F concerning x is:\n"
     ]
    },
    {
     "data": {
      "text/latex": [
       "$\\displaystyle e^{x} \\sin{\\left(y \\right)}$"
      ],
      "text/plain": [
       "exp(x)*sin(y)"
      ]
     },
     "execution_count": 60,
     "metadata": {},
     "output_type": "execute_result"
    }
   ],
   "source": [
    "F = (sp.sin(y) * sp.exp(x)) + y ** 3\n",
    "\n",
    "# Differentiating F concerning x\n",
    "\n",
    "DFDX = sp.diff(F, x)\n",
    "\n",
    "# Differentiating F concerning y\n",
    "\n",
    "DFDY = sp.diff(F, y)\n",
    "\n",
    "print (\"The Derivative of F concerning x is: \")\n",
    "DFDX"
   ]
  },
  {
   "cell_type": "code",
   "execution_count": 61,
   "id": "9333c7b7-2c69-4c86-8de8-d784c025f202",
   "metadata": {},
   "outputs": [
    {
     "name": "stdout",
     "output_type": "stream",
     "text": [
      "the derivative of F concerning y is:\n"
     ]
    },
    {
     "data": {
      "text/latex": [
       "$\\displaystyle 3 y^{2} + e^{x} \\cos{\\left(y \\right)}$"
      ],
      "text/plain": [
       "3*y**2 + exp(x)*cos(y)"
      ]
     },
     "execution_count": 61,
     "metadata": {},
     "output_type": "execute_result"
    }
   ],
   "source": [
    "print (\"The Derivative of F concerning y is: \")\n",
    "DFDY"
   ]
  },
  {
   "cell_type": "code",
   "execution_count": 68,
   "id": "63fe954c-5a7f-4786-b4bc-4ed7bb541791",
   "metadata": {
    "scrolled": true
   },
   "outputs": [
    {
     "data": {
      "text/latex": [
       "$\\displaystyle \\left[\\begin{matrix}2 x y + y^{2}\\\\x^{2} + 2 x y\\end{matrix}\\right]$"
      ],
      "text/plain": [
       "Matrix([\n",
       "[2*x*y + y**2],\n",
       "[x**2 + 2*x*y]])"
      ]
     },
     "execution_count": 68,
     "metadata": {},
     "output_type": "execute_result"
    }
   ],
   "source": [
    "G = (x ** 2 * y) + (y ** 2 * x)\n",
    "\n",
    "# Find the gradient of G\n",
    "\n",
    "DGDX = sp.diff(G, x)\n",
    "DGDY = sp.diff(G, y)\n",
    "\n",
    "# Display the gradient as a matrix, with x on the top and y on the bottom\n",
    "\n",
    "sp.Matrix([DGDX,DGDY])"
   ]
  },
  {
   "cell_type": "code",
   "execution_count": 69,
   "id": "4e51f240-ba6d-48af-ad8d-834d789dcbc2",
   "metadata": {},
   "outputs": [
    {
     "name": "stdout",
     "output_type": "stream",
     "text": [
      "-1 , -1\n"
     ]
    }
   ],
   "source": [
    "# Substitute (1, -1) into the gradient\n",
    "\n",
    "goose = {x: 1, y: -1}\n",
    "value_at_x = DGDX.subs(goose)\n",
    "value_at_y = DGDY.subs(goose)\n",
    "\n",
    "print (value_at_x, \",\", value_at_y)"
   ]
  },
  {
   "cell_type": "code",
   "execution_count": 70,
   "id": "a01cab00-978e-4507-8194-3bab65af41b2",
   "metadata": {},
   "outputs": [
    {
     "data": {
      "text/latex": [
       "$\\displaystyle \\left[\\begin{matrix}- \\frac{4 x^{2}}{\\left(x^{2} + y^{2}\\right)^{2}} + \\frac{2}{x^{2} + y^{2}} & - \\frac{4 y^{2}}{\\left(x^{2} + y^{2}\\right)^{2}} + \\frac{2}{x^{2} + y^{2}}\\\\- \\frac{4 x y}{\\left(x^{2} + y^{2}\\right)^{2}} & - \\frac{4 x y}{\\left(x^{2} + y^{2}\\right)^{2}}\\end{matrix}\\right]$"
      ],
      "text/plain": [
       "Matrix([\n",
       "[-4*x**2/(x**2 + y**2)**2 + 2/(x**2 + y**2), -4*y**2/(x**2 + y**2)**2 + 2/(x**2 + y**2)],\n",
       "[                   -4*x*y/(x**2 + y**2)**2,                    -4*x*y/(x**2 + y**2)**2]])"
      ]
     },
     "execution_count": 70,
     "metadata": {},
     "output_type": "execute_result"
    }
   ],
   "source": [
    "# Define the function\n",
    "\n",
    "h = sp.log((x ** 2) + (y ** 2))\n",
    "\n",
    "# Finding the second mixed and unmixed partials\n",
    "\n",
    "second_partialx = sp.diff((sp.diff(h, x)), x)\n",
    "second_partialy = sp.diff((sp.diff(h, y)), y)\n",
    "second_partialxy = sp.diff((sp.diff(h, x)), y)\n",
    "second_partialyx = sp.diff((sp.diff(h, y)), x)\n",
    "\n",
    "# Can show them as a matrix\n",
    "\n",
    "sp.Matrix([[second_partialx, second_partialy],[second_partialxy, second_partialyx]])"
   ]
  },
  {
   "cell_type": "code",
   "execution_count": 71,
   "id": "bff647cb-b8a3-4c3d-a259-ecbe3a6004a0",
   "metadata": {},
   "outputs": [
    {
     "data": {
      "text/latex": [
       "$\\displaystyle - \\frac{4 x^{2}}{\\left(x^{2} + y^{2}\\right)^{2}} + \\frac{2}{x^{2} + y^{2}}$"
      ],
      "text/plain": [
       "-4*x**2/(x**2 + y**2)**2 + 2/(x**2 + y**2)"
      ]
     },
     "execution_count": 71,
     "metadata": {},
     "output_type": "execute_result"
    }
   ],
   "source": [
    "# Also put them here for clarity\n",
    "\n",
    "second_partialx"
   ]
  },
  {
   "cell_type": "code",
   "execution_count": 72,
   "id": "bdef06db-0f3a-4b66-ae90-cc711c2022dd",
   "metadata": {},
   "outputs": [
    {
     "data": {
      "text/latex": [
       "$\\displaystyle - \\frac{4 y^{2}}{\\left(x^{2} + y^{2}\\right)^{2}} + \\frac{2}{x^{2} + y^{2}}$"
      ],
      "text/plain": [
       "-4*y**2/(x**2 + y**2)**2 + 2/(x**2 + y**2)"
      ]
     },
     "execution_count": 72,
     "metadata": {},
     "output_type": "execute_result"
    }
   ],
   "source": [
    "second_partialy "
   ]
  },
  {
   "cell_type": "code",
   "execution_count": 73,
   "id": "8b5877ef-864d-4a23-8547-892a204003bc",
   "metadata": {},
   "outputs": [
    {
     "data": {
      "text/latex": [
       "$\\displaystyle - \\frac{4 x y}{\\left(x^{2} + y^{2}\\right)^{2}}$"
      ],
      "text/plain": [
       "-4*x*y/(x**2 + y**2)**2"
      ]
     },
     "execution_count": 73,
     "metadata": {},
     "output_type": "execute_result"
    }
   ],
   "source": [
    "second_partialxy"
   ]
  },
  {
   "cell_type": "code",
   "execution_count": 74,
   "id": "56fb1a99-4f49-47c6-99d0-98d28be3f1c1",
   "metadata": {},
   "outputs": [
    {
     "data": {
      "text/latex": [
       "$\\displaystyle - \\frac{4 x y}{\\left(x^{2} + y^{2}\\right)^{2}}$"
      ],
      "text/plain": [
       "-4*x*y/(x**2 + y**2)**2"
      ]
     },
     "execution_count": 74,
     "metadata": {},
     "output_type": "execute_result"
    }
   ],
   "source": [
    "second_partialyx"
   ]
  },
  {
   "cell_type": "code",
   "execution_count": 75,
   "id": "09583432-4f06-4e58-b900-8cd714e9b0b6",
   "metadata": {},
   "outputs": [],
   "source": [
    "# The 2nd partial mixed derivative of G for x & with y is the equivalent of taking the 2nd partial mixed derivative of G for y with then x. \n",
    "# Due to the symmetry of the functions around x and y, swapping the variables would keep the function identical. \n",
    "# As this behaviour is equivalent for both variables, swapping the variable that the partial-mixed derivative takes 1st does not alter the output.\n"
   ]
  },
  {
   "cell_type": "code",
   "execution_count": 78,
   "id": "6935cbb7-0ef0-4f92-955f-07875e246b0b",
   "metadata": {},
   "outputs": [
    {
     "data": {
      "image/png": "[encoded data removed]",
      "text/plain": [
       "<Figure size 640x480 with 2 Axes>"
      ]
     },
     "metadata": {},
     "output_type": "display_data"
    }
   ],
   "source": [
    "# Define\n",
    "\n",
    "x, y = sp.symbols('x y')\n",
    "J = ((x ** 3) - (3 * x * y) + (y ** 3))\n",
    "\n",
    "# Convert sympy to # function\n",
    "\n",
    "J_function = sp.lambdify((x, y), J, 'numpy')\n",
    "\n",
    "# Create a grid of x & y values and solve J\n",
    "\n",
    "X_values = np.linspace(-3, 3, 400)\n",
    "Y_values = np.linspace(-3, 3, 400)\n",
    "X, Y = np.meshgrid(X_values, Y_values)\n",
    "Z = J_function(X, Y)\n",
    "\n",
    "# Plot!:\n",
    "\n",
    "plt.contourf(X, Y, Z, levels = 50, cmap = 'viridis')\n",
    "plt.colorbar()\n",
    "plt.title('Contour plot of $j(x, y) = x^3 - 3xy + y^3$')\n",
    "plt.xlabel('$x$')\n",
    "plt.ylabel('$y$')\n",
    "plt.show()"
   ]
  },
  {
   "cell_type": "code",
   "execution_count": 79,
   "id": "c41fe6b6-8dca-4346-a1c7-6d4fdafc3172",
   "metadata": {},
   "outputs": [
    {
     "data": {
      "image/png": "[encoded data removed]",
      "text/plain": [
       "<Figure size 640x480 with 2 Axes>"
      ]
     },
     "metadata": {},
     "output_type": "display_data"
    }
   ],
   "source": [
    "# Define\n",
    "\n",
    "x, y = sp.symbols('x y')\n",
    "silly = sp.sqrt(x ** 2 + y ** 2)\n",
    "\n",
    "# Convert sympy to # function\n",
    "\n",
    "silly_function = sp.lambdify((x, y), J, 'numpy')\n",
    "\n",
    "# Create a grid of x & y values and solve for J\n",
    "\n",
    "X_values = np.linspace(-3, 3, 400)\n",
    "Y_values = np.linspace(-3, 3, 400)\n",
    "X, Y = np.meshgrid(X_values, Y_values)\n",
    "Z = silly_function(X, Y)\n",
    "\n",
    "# Plot!\n",
    "\n",
    "plt.contourf(X, Y, Z, levels=50, cmap='magma')\n",
    "plt.colorbar()\n",
    "plt.title('Contour plot of $silly(x, y) = sqrt{x^2 + y^2}$')\n",
    "plt.xlabel('$x$')\n",
    "plt.ylabel('$y$')\n",
    "plt.show()"
   ]
  },
  {
   "cell_type": "code",
   "execution_count": 80,
   "id": "af0fd7ef-a24a-4ce3-a367-4f068236a61c",
   "metadata": {},
   "outputs": [
    {
     "data": {
      "text/latex": [
       "$\\displaystyle \\left[\\begin{matrix}2 x\\\\\\cos{\\left(y \\right)}\\end{matrix}\\right]$"
      ],
      "text/plain": [
       "Matrix([\n",
       "[   2*x],\n",
       "[cos(y)]])"
      ]
     },
     "execution_count": 80,
     "metadata": {},
     "output_type": "execute_result"
    }
   ],
   "source": [
    "sp.Matrix([DFDX,DFDY])"
   ]
  },
  {
   "cell_type": "code",
   "execution_count": 81,
   "id": "6562cebc-2c02-473f-9adb-ff73f1346563",
   "metadata": {},
   "outputs": [
    {
     "data": {
      "text/latex": [
       "$\\displaystyle \\left[\\begin{matrix}a & b\\\\c & d\\end{matrix}\\right]$"
      ],
      "text/plain": [
       "Matrix([\n",
       "[a, b],\n",
       "[c, d]])"
      ]
     },
     "execution_count": 81,
     "metadata": {},
     "output_type": "execute_result"
    }
   ],
   "source": [
    "a, b, c, d = sp.symbols('a b c d')\n",
    "sp.Matrix([[a,b],[c,d]])"
   ]
  }
 ],
 "metadata": {
  "kernelspec": {
   "display_name": "Python 3 (ipykernel)",
   "language": "python",
   "name": "python3"
  },
  "language_info": {
   "codemirror_mode": {
    "name": "ipython",
    "version": 3
   },
   "file_extension": ".py",
   "mimetype": "text/x-python",
   "name": "python",
   "nbconvert_exporter": "python",
   "pygments_lexer": "ipython3",
   "version": "3.12.8"
  }
 },
 "nbformat": 4,
 "nbformat_minor": 5
}

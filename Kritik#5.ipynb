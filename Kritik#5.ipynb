{
 "cells": [
  {
   "cell_type": "code",
   "execution_count": 8,
   "id": "fbc70922-c558-42e4-b129-4f921746275c",
   "metadata": {},
   "outputs": [
    {
     "name": "stdin",
     "output_type": "stream",
     "text": [
      "Please enter the x-value of the seed point:  0\n",
      "Please enter the y-value of the seed point:  0\n"
     ]
    },
    {
     "name": "stdout",
     "output_type": "stream",
     "text": [
      "Valid seed point has been entered :) \n"
     ]
    },
    {
     "name": "stdin",
     "output_type": "stream",
     "text": [
      "Please enter the desired number of steps:  10000\n"
     ]
    },
    {
     "name": "stdout",
     "output_type": "stream",
     "text": [
      "Number of steps set to 10000.\n"
     ]
    },
    {
     "data": {
      "image/png": "[encoded data removed]",
      "text/plain": [
       "<Figure size 640x480 with 1 Axes>"
      ]
     },
     "metadata": {},
     "output_type": "display_data"
    }
   ],
   "source": [
    "import matplotlib.pyplot as plt\n",
    "import random\n",
    "\n",
    "  #TODO: Implement the Chaos Game algorithm\n",
    "  #1. Initialize a random seed point within the triangle\n",
    "  #2. Roll the die and move the point half of the distance to the chosen vertex.\n",
    "  #3. Repeat and collect the points in a list\n",
    "  #(Remember to start plotting points after a dozen rolls)\n",
    "\n",
    "# Initialize the vertices of the triangle and the plot\n",
    "# Vertices of an equilateral triangle\n",
    "\n",
    "Vertices = [(0,0), (1,0), (0.5,0.866)]\n",
    "\n",
    "#A function to check whether point (x,y)\n",
    "#Lies inside the triangle formed by\n",
    "#A0,0), (1,0) and (0.5,0.866)\n",
    "\n",
    "def isInside(x1,y1,x2,y2,x3,y3,x,y):\n",
    "    def area(x1,y1,x2,y2,x3,y3):\n",
    "        return abs((x1*(y2-y3)+x2*(y3-y1)+x3*(y1-y2))/2.0)\n",
    "    Area = area(x1,y1,x2,y2,x3,y3)\n",
    "    Area_1 = area(x,y,x2,y2,x3,y3)\n",
    "    Area_2 = area(x1,y1,x,y,x3,y3)\n",
    "    Area_3 = area(x1,y1,x2,y2,x,y)\n",
    "    return Area==Area_1+Area_2+Area_3\n",
    "    \n",
    "#This will prompt the user for a seed point\n",
    "\n",
    "while True:\n",
    "  try:\n",
    "    Xseed=float(input(\"Please enter the x-value of the seed point: \"))\n",
    "    Yseed=float(input(\"Please enter the y-value of the seed point: \"))\n",
    "    if isInside(0,0,1,0,0.5,0.866,Xseed,Yseed):\n",
    "      print(\"Valid seed point has been entered :) \")\n",
    "      break \n",
    "    else:  \n",
    "      print(\"This point is not within the triangle :( Please try again! \")\n",
    "  except ValueError:\n",
    "      print(\"ERROR! Please enter numerical values. \")\n",
    "      \n",
    "#Starting point\n",
    "\n",
    "Seed=(Xseed, Yseed)\n",
    "\n",
    "#Initialize a list where the points (x_t,y_t) will be stored\n",
    "#Starting with the seed\n",
    "\n",
    "points=[Seed]\n",
    "\n",
    "#This will prompt the user for the ## of steps\n",
    "\n",
    "while True:\n",
    "  try:\n",
    "    Numb_steps=int(input(\"Please enter the desired number of steps: \"))\n",
    "    if Numb_steps > 0:\n",
    "      print(f\"Number of steps set to {Numb_steps}.\")\n",
    "      break\n",
    "    else:\n",
    "      print(\"Please enter a positive integer! \")\n",
    "  except ValueError:\n",
    "    print(\"ERROR! Please enter a positive integer! \")\n",
    "for i in range(num_steps):\n",
    "    \n",
    "#Choose a random vertex to move toward from the list \"Vertices\"\n",
    "#You can use the Python code random.randint(0,2) to \n",
    "#Choose a random integer between 0 and 2. Then you can use that random integer as\n",
    "#Your code should look like \"Nxt_vertex=vertex[ a random choice of index]\".\n",
    "    \n",
    "  Nxt_vertex=Vertices[random.randint(0,2)]\n",
    "    \n",
    "#Create the next point by moving from the last point, for example, points[-1], to the midpoint of the line formed by that point and the random vertex you just chose.\n",
    "#You may have to look up the formula for the midpoint of a line in the plane.\n",
    "    \n",
    "  Nxt_point=((points[-1][0]+Nxt_vertex[0])/2,(points[-1][1]+Nxt_vertex[1])/2)\n",
    "    \n",
    "#Add the new point to your list of points \n",
    "    \n",
    "  points.append(Nxt_point)\n",
    "    \n",
    "#Function to plot the solution set\n",
    "\n",
    "def plot_solution(points):\n",
    "  plt.scatter([p[0] for p in points], [p[1] for p in points], s=0.1)\n",
    "  plt.show()\n",
    "    \n",
    "#Plot!\n",
    "\n",
    "plot_solution(points)"
   ]
  },
  {
   "cell_type": "code",
   "execution_count": null,
   "id": "13cb1743-e301-440c-beb6-f011d92cd984",
   "metadata": {},
   "outputs": [],
   "source": []
  }
 ],
 "metadata": {
  "kernelspec": {
   "display_name": "Python 3 (ipykernel)",
   "language": "python",
   "name": "python3"
  },
  "language_info": {
   "codemirror_mode": {
    "name": "ipython",
    "version": 3
   },
   "file_extension": ".py",
   "mimetype": "text/x-python",
   "name": "python",
   "nbconvert_exporter": "python",
   "pygments_lexer": "ipython3",
   "version": "3.12.8"
  }
 },
 "nbformat": 4,
 "nbformat_minor": 5
}

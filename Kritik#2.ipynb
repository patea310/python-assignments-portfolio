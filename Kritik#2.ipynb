{
 "cells": [
  {
   "cell_type": "code",
   "execution_count": 26,
   "id": "bda4eedd-05ff-47b8-b794-73e02bba05f2",
   "metadata": {},
   "outputs": [
    {
     "name": "stdout",
     "output_type": "stream",
     "text": [
      "The root of the function within[0.1,1]=0.2698741376\n",
      "The root of the function within[0,2]=0.0000000000\n",
      "The root of the function within[3,4]=3.1415926536\n",
      "No root was found for the function within[5,7]\n"
     ]
    }
   ],
   "source": [
    "import numpy as npy\n",
    "def roots(A,B,C,D=1e-15):\n",
    "    if npy.sign(A(B))==npy.sign(A(C)):\n",
    "        return None\n",
    "    for i in range(1000):\n",
    "        mid=(B+C)/2\n",
    "        if npy.abs(A(mid))<D:\n",
    "            return mid\n",
    "        elif npy.sign(A(B))==npy.sign(A(mid)):\n",
    "            return roots(A,mid,C,D)\n",
    "        else:\n",
    "            return roots(A,B,mid,D)\n",
    "TestCases=[\n",
    "    (lambda x:npy.exp(x)+npy.log(x),0.1,1),\n",
    "    (lambda x:npy.arctan(x)-x**2,0,2),\n",
    "    (lambda x:npy.sin(x)/npy.log(x),3,4),\n",
    "    (lambda x:npy.log(np.cos(x)),5,7)]\n",
    "for i, (A,B,C) in enumerate(TestCases):\n",
    "    rts=roots(A,B,C)\n",
    "    if rts is not None:\n",
    "        print(f\"The root of the function within[{B},{C}]={rts:.10f}\")\n",
    "    else:\n",
    "        print(f\"No root was found for the function within[{B},{C}]\")"
   ]
  },
  {
   "cell_type": "code",
   "execution_count": null,
   "id": "e510eb7e-65c5-4c6a-9b3d-d2bf8ed62e1a",
   "metadata": {},
   "outputs": [],
   "source": []
  }
 ],
 "metadata": {
  "kernelspec": {
   "display_name": "Python 3 (ipykernel)",
   "language": "python",
   "name": "python3"
  },
  "language_info": {
   "codemirror_mode": {
    "name": "ipython",
    "version": 3
   },
   "file_extension": ".py",
   "mimetype": "text/x-python",
   "name": "python",
   "nbconvert_exporter": "python",
   "pygments_lexer": "ipython3",
   "version": "3.11.9"
  }
 },
 "nbformat": 4,
 "nbformat_minor": 5
}

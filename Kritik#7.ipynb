{
 "cells": [
  {
   "cell_type": "code",
   "execution_count": 21,
   "id": "443aae19-588d-4b22-8623-a9a5c246cc68",
   "metadata": {},
   "outputs": [
    {
     "data": {
      "text/plain": [
       "10.193467189005581"
      ]
     },
     "execution_count": 21,
     "metadata": {},
     "output_type": "execute_result"
    }
   ],
   "source": [
    "import numpy as np\n",
    "from scipy.special import gamma\n",
    "\n",
    "Test_Scores = [92.64,79.00,84.79,97.41,93.68,65.23,84.50,73.49,73.97,79.11]\n",
    "\n",
    "def mean(x): # Find the avg of the data set\n",
    "    return sum(x[:])/len(x)\n",
    "\n",
    "def standard_deviation(n, Avg): # Takes in the sample size and the mean of the data points\n",
    "   \n",
    "    sum = 0\n",
    "    \n",
    "    for i in Test_Scores: # Manual integration\n",
    "        sum +=( i - Avg) ** 2\n",
    "        i =+ 1\n",
    "    dev = np.sqrt((1/(n-1))*sum) # More algebra\n",
    "    return dev\n",
    "\n",
    "standard_deviation(len(Test_Scores), mean(Test_Scores))"
   ]
  },
  {
   "cell_type": "code",
   "execution_count": 22,
   "id": "1cfbe7cd-1e04-41d9-9a71-68b2f010249b",
   "metadata": {},
   "outputs": [
    {
     "data": {
      "text/plain": [
       "2.290087686017293"
      ]
     },
     "execution_count": 22,
     "metadata": {},
     "output_type": "execute_result"
    }
   ],
   "source": [
    "def tsub0(Avg, Meansub0, stdev, n): # Algebraic expression for tsub0 using  mean, stdev, and null hypothesis\n",
    "    #of the mean, and the sample size.\n",
    "    return ((Avg - Meansub0)/(stdev/np.sqrt(n)))\n",
    "\n",
    "tsub0(mean(Test_Scores), 75, standard_deviation(len(Test_Scores), mean(Test_Scores)), len(Test_Scores))"
   ]
  },
  {
   "cell_type": "code",
   "execution_count": 23,
   "id": "1e03dc39-86a6-4504-a6e7-2a15582df843",
   "metadata": {},
   "outputs": [
    {
     "data": {
      "text/plain": [
       "2.2522252225222523"
      ]
     },
     "execution_count": 23,
     "metadata": {},
     "output_type": "execute_result"
    }
   ],
   "source": [
    "def t_distribution_pdf(x, nu): # Given code that computes the probability density of the t-distbtn\n",
    "    #at a given point x with nu degrees freedom.\n",
    "    \n",
    "    Cof = gamma((nu + 1) / 2) / (np.sqrt(nu * np.pi) * gamma(nu / 2)) \n",
    "   \n",
    "    Dense = Cof * (1 + x**2 / nu) ** (-0.5 * (nu + 1))\n",
    "    \n",
    "    return Dense # Density probability at point x for the t-distbtn with nu degrees of freedom.\n",
    "\n",
    "def find_special_t(Prob, nu, x_start = 0, x_end = 20, num_points = 10000): \n",
    "    \n",
    "# Find the t-value special_t for a given probability & degrees freedom.\n",
    "    \n",
    "# Define x\n",
    "    x = np.linspace(x_start, x_end, num_points)\n",
    "    \n",
    "# Apply Density\n",
    "    y = t_distribution_pdf(x, nu)\n",
    "    \n",
    "# Integration \n",
    "    CDF = np.cumsum(y) * (x[1] - x[0])\n",
    "    \n",
    "# Find t such the cumulative probability reaches 1/2 of required.\n",
    "    \n",
    "    Half_Prob = Prob / 2\n",
    "    index = np.where(CDF >= Half_Prob)[0][0] \n",
    "    return x[index] # T such that the area between -ve special_t to +ve special_t equals given prob.\n",
    "\n",
    "find_special_t(0.95, len(Test_Scores)-1, x_start=0, x_end=20, num_points=10000)"
   ]
  },
  {
   "cell_type": "code",
   "execution_count": 24,
   "id": "fe447585-56e3-4725-a744-32f098012232",
   "metadata": {},
   "outputs": [
    {
     "data": {
      "text/plain": [
       "False"
      ]
     },
     "execution_count": 24,
     "metadata": {},
     "output_type": "execute_result"
    }
   ],
   "source": [
    "def tsub0_in_interval(tsub0, special_t): # Finding if tsub0 exists within in -ve special_t to +ve special_t\n",
    "    if abs(tsub0) <= special_t: # If tsub0 is < or = special_t, it will exist within the interval\n",
    "        \n",
    "        return True\n",
    "    else:\n",
    "        return False\n",
    "\n",
    "tsub0_in_interval(tsub0(mean(Test_Scores), 75, standard_deviation(len(Test_Scores), mean(Test_Scores)), len(Test_Scores)),\n",
    "                find_special_t(0.95, len(Test_Scores)-1, x_start=0, x_end=20, num_points=10000))"
   ]
  },
  {
   "cell_type": "code",
   "execution_count": null,
   "id": "b20f6af7-cc1e-4ae3-afb1-11ccda975e5e",
   "metadata": {},
   "outputs": [],
   "source": [
    "# As tsub0 is not within (-t, t), the null hypothesis has been rejected. This means that the mean does not =75. \n",
    "# Therefore, the difference of the mean score before the teaching techniques + mean score is very large. \n",
    "# tsub0 is > special_t and belongs outside of the (-t, t) interval.\n",
    "# In all, this proof displays that the teaching techniques used were helpful \n",
    "# and increased the mean of the test scores."
   ]
  }
 ],
 "metadata": {
  "kernelspec": {
   "display_name": "Python 3 (ipykernel)",
   "language": "python",
   "name": "python3"
  },
  "language_info": {
   "codemirror_mode": {
    "name": "ipython",
    "version": 3
   },
   "file_extension": ".py",
   "mimetype": "text/x-python",
   "name": "python",
   "nbconvert_exporter": "python",
   "pygments_lexer": "ipython3",
   "version": "3.12.8"
  }
 },
 "nbformat": 4,
 "nbformat_minor": 5
}

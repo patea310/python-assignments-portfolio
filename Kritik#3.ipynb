{
 "cells": [
  {
   "cell_type": "code",
   "execution_count": 20,
   "id": "e0945489-c188-4f74-afdb-e96c5668c153",
   "metadata": {},
   "outputs": [
    {
     "name": "stdout",
     "output_type": "stream",
     "text": [
      "0.999999\n",
      "1.000001\n",
      "0.7853971633974483\n",
      "0.7853991633974483\n",
      "-1e-06\n",
      "1e-06\n"
     ]
    }
   ],
   "source": [
    "import numpy as np\n",
    "def f(x):\n",
    "  return x**2\n",
    "def g(x):\n",
    "  return np.sin(x)\n",
    "def h(x):\n",
    "  return np.exp(x)\n",
    "def differentiate(f,c,e):\n",
    "  a = 10**-8\n",
    "  b = (f(c+a)-f(c-a)/(2*a))\n",
    "  silly = c\n",
    "  goose = c\n",
    "  ERROR_1 = 0\n",
    "  ERROR_2 = 0\n",
    "  while ERROR_1<e:\n",
    "    silly=silly-0.000001\n",
    "    ERROR_1 = abs(f(silly)-f(c)-(silly-c)*b)\n",
    "    if(ERROR_1>=e):\n",
    "      print(silly)\n",
    "      break\n",
    "  while ERROR_2<e:\n",
    "    goose=goose+0.000001\n",
    "    ERROR_2 = abs(f(goose)-f(c)-(goose-c)*b)\n",
    "    if ERROR_2>=e:\n",
    "      print(goose)\n",
    "      break\n",
    "\n",
    "\n",
    "\n",
    "differentiate(f,1,0.1)\n",
    "differentiate(g,np.pi/4,0.05)\n",
    "differentiate(h,0,0.01)"
   ]
  },
  {
   "cell_type": "code",
   "execution_count": null,
   "id": "324d83d8-15e4-4cf8-95de-2da4e1427d36",
   "metadata": {},
   "outputs": [],
   "source": []
  }
 ],
 "metadata": {
  "kernelspec": {
   "display_name": "Python 3 (ipykernel)",
   "language": "python",
   "name": "python3"
  },
  "language_info": {
   "codemirror_mode": {
    "name": "ipython",
    "version": 3
   },
   "file_extension": ".py",
   "mimetype": "text/x-python",
   "name": "python",
   "nbconvert_exporter": "python",
   "pygments_lexer": "ipython3",
   "version": "3.11.9"
  }
 },
 "nbformat": 4,
 "nbformat_minor": 5
}
